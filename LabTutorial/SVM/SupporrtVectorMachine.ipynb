{
  "cells": [
    {
      "cell_type": "code",
      "execution_count": 4,
      "metadata": {
        "id": "h8egubYW58i-"
      },
      "outputs": [
        {
          "ename": "ModuleNotFoundError",
          "evalue": "No module named 'numpy'",
          "output_type": "error",
          "traceback": [
            "\u001b[1;31m---------------------------------------------------------------------------\u001b[0m",
            "\u001b[1;31mModuleNotFoundError\u001b[0m                       Traceback (most recent call last)",
            "Cell \u001b[1;32mIn[4], line 1\u001b[0m\n\u001b[1;32m----> 1\u001b[0m \u001b[38;5;28;01mimport\u001b[39;00m \u001b[38;5;21;01mnumpy\u001b[39;00m \u001b[38;5;28;01mas\u001b[39;00m \u001b[38;5;21;01mnp\u001b[39;00m\n\u001b[0;32m      2\u001b[0m \u001b[38;5;28;01mimport\u001b[39;00m \u001b[38;5;21;01mpandas\u001b[39;00m \u001b[38;5;28;01mas\u001b[39;00m \u001b[38;5;21;01mpd\u001b[39;00m\n\u001b[0;32m      3\u001b[0m \u001b[38;5;28;01mimport\u001b[39;00m \u001b[38;5;21;01mmatplotlib\u001b[39;00m\u001b[38;5;21;01m.\u001b[39;00m\u001b[38;5;21;01mpyplot\u001b[39;00m \u001b[38;5;28;01mas\u001b[39;00m \u001b[38;5;21;01mplt\u001b[39;00m\n",
            "\u001b[1;31mModuleNotFoundError\u001b[0m: No module named 'numpy'"
          ]
        }
      ],
      "source": [
        "import numpy as np\n",
        "import pandas as pd\n",
        "import matplotlib.pyplot as plt\n",
        "from sklearn.datasets import fetch_lfw_people\n",
        "from sklearn.model_selection import train_test_split\n",
        "from sklearn.decomposition import PCA\n",
        "from sklearn.model_selection import cross_val_score, KFold\n",
        "from sklearn.svm import SVC\n",
        "from sklearn import metrics\n",
        "import seaborn as sns\n",
        "import warnings\n",
        "warnings.filterwarnings('ignore')\n",
        "\n",
        "lfw_people = fetch_lfw_people(min_faces_per_person=105, resize=0.4)\n",
        "data = lfw_people.data\n",
        "target = lfw_people.target\n",
        "target_names = lfw_people.target_names\n",
        "n_classes = target_names.shape[0]\n",
        "print(\"Data shape:\", data.shape)\n",
        "print(\"Number of classes:\", n_classes)\n",
        "\n",
        "def show_10_distinct_people(images, unique_ids, image_shape):\n",
        "    fig, axarr = plt.subplots(nrows=2, ncols=5, figsize=(15, 6))\n",
        "    axarr = axarr.flatten()\n",
        "    for i, unique_id in enumerate(unique_ids[:10]):\n",
        "        image_index = unique_id\n",
        "        axarr[i].imshow(images[image_index].reshape(image_shape), cmap=\"gray\")\n",
        "        axarr[i].set_xticks([])\n",
        "        axarr[i].set_yticks([])\n",
        "        axarr[i].set_title(\"Person id: {}\".format(unique_id))\n",
        "    plt.suptitle(\"Showing 10 distinct people\")\n",
        "    plt.show()\n",
        "\n",
        "show_10_distinct_people(data, np.unique(target), lfw_people.images[0].shape)\n",
        "\n",
        "X = data\n",
        "X_train, X_test, y_train, y_test = train_test_split(X, target, test_size=0.3, stratify=target, random_state=42)\n",
        "print(\"X_train shape:\", X_train.shape)\n",
        "print(\"y_train shape:\", y_train.shape)\n",
        "\n",
        "y_frame = pd.DataFrame()\n",
        "y_frame['subject ids'] = y_train\n",
        "y_frame.groupby(['subject ids']).size().plot.bar(figsize=(15, 8), title=\"Number of Samples for Each Class\")\n",
        "n_components = 150\n",
        "pca = PCA(n_components=n_components, whiten=True).fit(X_train)\n",
        "X_train_pca = pca.transform(X_train)\n",
        "X_test_pca = pca.transform(X_test)\n",
        "fig, ax = plt.subplots(1, 1, figsize=(8, 8))\n",
        "ax.imshow(pca.mean_.reshape(lfw_people.images[0].shape), cmap=\"gray\")\n",
        "ax.set_xticks([])\n",
        "ax.set_yticks([])\n",
        "ax.set_title('Average Face')\n",
        "eigen_faces = pca.components_.reshape((n_components, lfw_people.images[0].shape[0], lfw_people.images[0].shape[1]))\n",
        "cols = 5\n",
        "rows = int(n_components / cols)\n",
        "fig, axarr = plt.subplots(nrows=rows, ncols=cols, figsize=(18, 36))\n",
        "axarr = axarr.flatten()\n",
        "for i in range(n_components):\n",
        "    axarr[i].imshow(eigen_faces[i], cmap=\"gray\")\n",
        "    axarr[i].set_xticks([])\n",
        "    axarr[i].set_yticks([])\n",
        "    axarr[i].set_title(\"eigen id: {}\".format(i + 1))\n",
        "plt.suptitle(\"Eigenfaces\")\n",
        "clf = SVC(kernel='rbf', class_weight='balanced')\n",
        "clf.fit(X_train_pca, y_train)\n",
        "y_pred = clf.predict(X_test_pca)\n",
        "plt.figure(1, figsize=(12, 8))\n",
        "sns.heatmap(metrics.confusion_matrix(y_test, y_pred), annot=True, fmt='d', cmap=\"Blues\")\n",
        "plt.title(\"Confusion Matrix for SVM on Test Set\")\n",
        "plt.show()\n",
        "print(metrics.classification_report(y_test, y_pred, target_names=target_names))\n",
        "kfold = KFold(n_splits=5, shuffle=True, random_state=0)\n",
        "cv_scores = cross_val_score(clf, pca.transform(X), target, cv=kfold)\n",
        "print(\"Mean cross-validation score: {:.2f}\".format(cv_scores.mean()))\n",
        "print(\"Final accuracy score: {:.2f}\".format(metrics.accuracy_score(y_test, y_pred)))\n"
      ]
    }
  ],
  "metadata": {
    "colab": {
      "provenance": []
    },
    "kernelspec": {
      "display_name": "Python 3",
      "name": "python3"
    },
    "language_info": {
      "codemirror_mode": {
        "name": "ipython",
        "version": 3
      },
      "file_extension": ".py",
      "mimetype": "text/x-python",
      "name": "python",
      "nbconvert_exporter": "python",
      "pygments_lexer": "ipython3",
      "version": "3.11.9"
    }
  },
  "nbformat": 4,
  "nbformat_minor": 0
}
